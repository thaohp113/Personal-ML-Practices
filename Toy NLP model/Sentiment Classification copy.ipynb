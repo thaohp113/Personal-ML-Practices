{
 "cells": [
  {
   "cell_type": "code",
   "execution_count": 253,
   "id": "07f3bea2",
   "metadata": {
    "colab": {
     "base_uri": "https://localhost:8080/"
    },
    "id": "07f3bea2",
    "outputId": "2116e14a-7b58-421b-c7db-400035eaff6f"
   },
   "outputs": [
    {
     "name": "stdout",
     "output_type": "stream",
     "text": [
      "Requirement already satisfied: imbalanced-learn in /Users/haphuongthao/opt/anaconda3/lib/python3.9/site-packages (0.11.0)\n",
      "Requirement already satisfied: joblib>=1.1.1 in /Users/haphuongthao/opt/anaconda3/lib/python3.9/site-packages (from imbalanced-learn) (1.3.2)\n",
      "Requirement already satisfied: threadpoolctl>=2.0.0 in /Users/haphuongthao/opt/anaconda3/lib/python3.9/site-packages (from imbalanced-learn) (2.2.0)\n",
      "Requirement already satisfied: numpy>=1.17.3 in /Users/haphuongthao/opt/anaconda3/lib/python3.9/site-packages (from imbalanced-learn) (1.21.5)\n",
      "Requirement already satisfied: scipy>=1.5.0 in /Users/haphuongthao/opt/anaconda3/lib/python3.9/site-packages (from imbalanced-learn) (1.9.1)\n",
      "Requirement already satisfied: scikit-learn>=1.0.2 in /Users/haphuongthao/opt/anaconda3/lib/python3.9/site-packages (from imbalanced-learn) (1.0.2)\n",
      "Requirement already satisfied: imblearn in /Users/haphuongthao/opt/anaconda3/lib/python3.9/site-packages (0.0)\n",
      "Requirement already satisfied: imbalanced-learn in /Users/haphuongthao/opt/anaconda3/lib/python3.9/site-packages (from imblearn) (0.11.0)\n",
      "Requirement already satisfied: numpy>=1.17.3 in /Users/haphuongthao/opt/anaconda3/lib/python3.9/site-packages (from imbalanced-learn->imblearn) (1.21.5)\n",
      "Requirement already satisfied: threadpoolctl>=2.0.0 in /Users/haphuongthao/opt/anaconda3/lib/python3.9/site-packages (from imbalanced-learn->imblearn) (2.2.0)\n",
      "Requirement already satisfied: scikit-learn>=1.0.2 in /Users/haphuongthao/opt/anaconda3/lib/python3.9/site-packages (from imbalanced-learn->imblearn) (1.0.2)\n",
      "Requirement already satisfied: joblib>=1.1.1 in /Users/haphuongthao/opt/anaconda3/lib/python3.9/site-packages (from imbalanced-learn->imblearn) (1.3.2)\n",
      "Requirement already satisfied: scipy>=1.5.0 in /Users/haphuongthao/opt/anaconda3/lib/python3.9/site-packages (from imbalanced-learn->imblearn) (1.9.1)\n"
     ]
    }
   ],
   "source": [
    "!pip install -U imbalanced-learn\n",
    "!pip install imblearn"
   ]
  },
  {
   "cell_type": "markdown",
   "id": "77e9ca24",
   "metadata": {},
   "source": [
    "# Sentiment Classification - Kaggle\n",
    "\n",
    "This notebook is dedicated to building a sentiment classification model and submit to this kaggle challenge: https://www.kaggle.com/competitions/comp3020-f23-assignment-3-sentiment-part2/overview\n",
    "\n",
    "In the preprocessing phase, the NLTK libary is used. The code begins by downloading ’wordnet’ from NLTK, which is a large lexical database for the English language that NLTK uses for tasks like lemma- tization. It then imports PorterStemmer and WordNetLemmatizer from NLTK, which are classes used for stemming and lemmatization, respectively. The subtasks in this step are iterated over each piece of text in the train[’text’] dataset, applying multiple preprocessing steps to each text entry:\n",
    "- HTML Tag Removal: The text is cleaned of HTML tags using a regular expression that matches and removes them.\n",
    "- Contraction Expansion: Contractions (like “can’t” or “won’t”) are expanded to their full form (like “cannot” or “will not”) using the contractions.fix function.\n",
    "- Special Characters and Digit Removal: All special characters (non-alphanumeric) are removed from the text, leaving only letters, numbers, and whitespace. All digits are removed from the text, ensuring that only letters remain.\n",
    "- URL and Email Address Removal: URLs and email addresses are stripped out of the text using regular expressions.\n",
    "- Lowercasing, Stopword Removal, Stemming, and Lemmatization: The text is converted to lowercase. Any stopwords (commonly used words that don’t contribute significant meaning, like “and”, “the”, “is”) are removed. Words are first stemmed using PorterStemmer, which reduces words to their root form by removing common word endings. For example, “running” becomes “run”. The stemmed words are then lemmatized using WordNetLemmatizer, which further reduces words to their base or dictionary form. For example, “better” becomes “good”.\n",
    "- Final Processing: Words with a length of less than 3 characters are removed. The processed words are joined back into a single string with spaces and added to the processed_text list.\n",
    "\n",
    "The preprocesses steps are to make sure that the data is clean and free of any noise. Then, I also look through the data to see if the classes are balanced or not. Since we have imbalanced dataset, in the next steps, I would implement balanced class weight and resampling method such as SMOTE for each case.\n",
    "\n",
    "After processing, I tried the following embedder: n-gram, TF-IDF, Count Vectorizer and Hashing Vec- torizer, on Logistic Regression and MLP Classifier with logistic activation in sklearn. The Decision Tree and K-NN are skipped due to its long time taken to process the model. K-NN is also not suitable for the sentiment classification task, due to the sparse nature of vectorized text. The models are also tested with both preprocessed and unprocessed data to see if there is any significant result. For each vectorizer, both preprocessed and not-preprocessed data are utilized, embedded then fit into the model.\n",
    "\n",
    "After different trials and errors, the F1 for the baseline model is around 0.77-0.80. The best classifier I could found is by using n-gram embedder and logistic regression model, with random state = 149, balanced class weight. Due to the nature of ML, the result may not be deterministic over different versions or packages."
   ]
  },
  {
   "cell_type": "code",
   "execution_count": 254,
   "id": "Wh2OnEzEOZO9",
   "metadata": {
    "colab": {
     "base_uri": "https://localhost:8080/"
    },
    "id": "Wh2OnEzEOZO9",
    "outputId": "56201cfb-675b-49ab-fac5-944cd6bece74"
   },
   "outputs": [
    {
     "name": "stdout",
     "output_type": "stream",
     "text": [
      "Requirement already satisfied: contractions in /Users/haphuongthao/opt/anaconda3/lib/python3.9/site-packages (0.1.73)\n",
      "Requirement already satisfied: textsearch>=0.0.21 in /Users/haphuongthao/opt/anaconda3/lib/python3.9/site-packages (from contractions) (0.0.24)\n",
      "Requirement already satisfied: anyascii in /Users/haphuongthao/opt/anaconda3/lib/python3.9/site-packages (from textsearch>=0.0.21->contractions) (0.3.2)\n",
      "Requirement already satisfied: pyahocorasick in /Users/haphuongthao/opt/anaconda3/lib/python3.9/site-packages (from textsearch>=0.0.21->contractions) (2.0.0)\n",
      "Requirement already satisfied: tqdm in /Users/haphuongthao/opt/anaconda3/lib/python3.9/site-packages (4.64.1)\n"
     ]
    }
   ],
   "source": [
    "!pip install contractions\n",
    "!pip install tqdm"
   ]
  },
  {
   "cell_type": "code",
   "execution_count": 255,
   "id": "4ab41b10",
   "metadata": {
    "id": "4ab41b10"
   },
   "outputs": [],
   "source": [
    "import contractions\n",
    "from tqdm import tqdm"
   ]
  },
  {
   "cell_type": "code",
   "execution_count": 256,
   "id": "0b65c4c0",
   "metadata": {
    "colab": {
     "base_uri": "https://localhost:8080/",
     "height": 206
    },
    "id": "0b65c4c0",
    "outputId": "74775c96-b31c-4f47-fdc0-44094540412e"
   },
   "outputs": [
    {
     "data": {
      "text/html": [
       "<div>\n",
       "<style scoped>\n",
       "    .dataframe tbody tr th:only-of-type {\n",
       "        vertical-align: middle;\n",
       "    }\n",
       "\n",
       "    .dataframe tbody tr th {\n",
       "        vertical-align: top;\n",
       "    }\n",
       "\n",
       "    .dataframe thead th {\n",
       "        text-align: right;\n",
       "    }\n",
       "</style>\n",
       "<table border=\"1\" class=\"dataframe\">\n",
       "  <thead>\n",
       "    <tr style=\"text-align: right;\">\n",
       "      <th></th>\n",
       "      <th>text</th>\n",
       "      <th>labels</th>\n",
       "    </tr>\n",
       "  </thead>\n",
       "  <tbody>\n",
       "    <tr>\n",
       "      <th>0</th>\n",
       "      <td>Unfortunately, the frustration of being Dr. Go...</td>\n",
       "      <td>0</td>\n",
       "    </tr>\n",
       "    <tr>\n",
       "      <th>1</th>\n",
       "      <td>I don't know what Dr. Goldberg was like before...</td>\n",
       "      <td>0</td>\n",
       "    </tr>\n",
       "    <tr>\n",
       "      <th>2</th>\n",
       "      <td>I'm writing this review to give you a heads up...</td>\n",
       "      <td>0</td>\n",
       "    </tr>\n",
       "    <tr>\n",
       "      <th>3</th>\n",
       "      <td>Wing sauce is like water. Pretty much a lot of...</td>\n",
       "      <td>0</td>\n",
       "    </tr>\n",
       "    <tr>\n",
       "      <th>4</th>\n",
       "      <td>Owning a driving range inside the city limits ...</td>\n",
       "      <td>0</td>\n",
       "    </tr>\n",
       "  </tbody>\n",
       "</table>\n",
       "</div>"
      ],
      "text/plain": [
       "                                                text  labels\n",
       "0  Unfortunately, the frustration of being Dr. Go...       0\n",
       "1  I don't know what Dr. Goldberg was like before...       0\n",
       "2  I'm writing this review to give you a heads up...       0\n",
       "3  Wing sauce is like water. Pretty much a lot of...       0\n",
       "4  Owning a driving range inside the city limits ...       0"
      ]
     },
     "execution_count": 256,
     "metadata": {},
     "output_type": "execute_result"
    }
   ],
   "source": [
    "import numpy as np\n",
    "import pandas as pd\n",
    "\n",
    "train = pd.read_csv(\"train.csv\")\n",
    "test = pd.read_csv(\"test.csv\")\n",
    "train.head()"
   ]
  },
  {
   "cell_type": "code",
   "execution_count": 257,
   "id": "kb_YRK5fRV5F",
   "metadata": {
    "colab": {
     "base_uri": "https://localhost:8080/",
     "height": 206
    },
    "id": "kb_YRK5fRV5F",
    "outputId": "92e9f31b-e10c-4ae4-94b9-867635152f56"
   },
   "outputs": [
    {
     "data": {
      "text/html": [
       "<div>\n",
       "<style scoped>\n",
       "    .dataframe tbody tr th:only-of-type {\n",
       "        vertical-align: middle;\n",
       "    }\n",
       "\n",
       "    .dataframe tbody tr th {\n",
       "        vertical-align: top;\n",
       "    }\n",
       "\n",
       "    .dataframe thead th {\n",
       "        text-align: right;\n",
       "    }\n",
       "</style>\n",
       "<table border=\"1\" class=\"dataframe\">\n",
       "  <thead>\n",
       "    <tr style=\"text-align: right;\">\n",
       "      <th></th>\n",
       "      <th>id</th>\n",
       "      <th>input</th>\n",
       "    </tr>\n",
       "  </thead>\n",
       "  <tbody>\n",
       "    <tr>\n",
       "      <th>0</th>\n",
       "      <td>0</td>\n",
       "      <td>I really don't understand the hype of this pla...</td>\n",
       "    </tr>\n",
       "    <tr>\n",
       "      <th>1</th>\n",
       "      <td>1</td>\n",
       "      <td>In today's economy where most businesses try t...</td>\n",
       "    </tr>\n",
       "    <tr>\n",
       "      <th>2</th>\n",
       "      <td>2</td>\n",
       "      <td>i am a sucker for this place. its not that is ...</td>\n",
       "    </tr>\n",
       "    <tr>\n",
       "      <th>3</th>\n",
       "      <td>3</td>\n",
       "      <td>I have been coming here for years!  The prices...</td>\n",
       "    </tr>\n",
       "    <tr>\n",
       "      <th>4</th>\n",
       "      <td>4</td>\n",
       "      <td>This might be a good way to kill time if you'r...</td>\n",
       "    </tr>\n",
       "  </tbody>\n",
       "</table>\n",
       "</div>"
      ],
      "text/plain": [
       "   id                                              input\n",
       "0   0  I really don't understand the hype of this pla...\n",
       "1   1  In today's economy where most businesses try t...\n",
       "2   2  i am a sucker for this place. its not that is ...\n",
       "3   3  I have been coming here for years!  The prices...\n",
       "4   4  This might be a good way to kill time if you'r..."
      ]
     },
     "execution_count": 257,
     "metadata": {},
     "output_type": "execute_result"
    }
   ],
   "source": [
    "test = pd.read_csv(\"test.csv\")\n",
    "test.head()"
   ]
  },
  {
   "cell_type": "code",
   "execution_count": 258,
   "id": "e11da0de",
   "metadata": {
    "colab": {
     "base_uri": "https://localhost:8080/"
    },
    "id": "e11da0de",
    "outputId": "b6f8b442-b218-491e-d833-224e52619acd"
   },
   "outputs": [
    {
     "data": {
      "text/plain": [
       "0    7000\n",
       "1    3000\n",
       "Name: labels, dtype: int64"
      ]
     },
     "execution_count": 258,
     "metadata": {},
     "output_type": "execute_result"
    }
   ],
   "source": [
    "train['labels'].value_counts()"
   ]
  },
  {
   "cell_type": "markdown",
   "id": "5237c98b",
   "metadata": {},
   "source": [
    "# Data Preprocessing"
   ]
  },
  {
   "cell_type": "code",
   "execution_count": 259,
   "id": "7c12ce8c",
   "metadata": {
    "colab": {
     "base_uri": "https://localhost:8080/",
     "height": 107
    },
    "id": "7c12ce8c",
    "outputId": "22e60d35-4377-4396-8d84-a661f9f44e13"
   },
   "outputs": [
    {
     "name": "stdout",
     "output_type": "stream",
     "text": [
      "I had the famous Pitts-Burger and it was disgusting! The only reason I'm giving it two stars is because of the bread. The bread is super soft and tasty but the meat was gross and the cole slaw was bitter. I don't see what the hype is all about!\n"
     ]
    },
    {
     "data": {
      "text/plain": [
       "'Love it here! Great beds...always see amazing results! Staff is VERY knowledgeable and friendly! Good prices and a variety of lotions to chose from at any price point! Have been coming here for months and will continue! So happy to find such a great place so close home!!!'"
      ]
     },
     "execution_count": 259,
     "metadata": {},
     "output_type": "execute_result"
    }
   ],
   "source": [
    "import regex as re\n",
    "print(train['text'][1000])\n",
    "re.sub('(<[\\w\\s]*/?>)',\"\",train['text'][1000])\n",
    "re.sub('(<[\\w\\s]*/?>)',\"\",test['input'][1000])"
   ]
  },
  {
   "cell_type": "code",
   "execution_count": 260,
   "id": "716b5467",
   "metadata": {},
   "outputs": [
    {
     "name": "stderr",
     "output_type": "stream",
     "text": [
      "[nltk_data] Downloading package omw-1.4 to\n",
      "[nltk_data]     /Users/haphuongthao/nltk_data...\n",
      "[nltk_data]   Package omw-1.4 is already up-to-date!\n"
     ]
    },
    {
     "data": {
      "text/plain": [
       "True"
      ]
     },
     "execution_count": 260,
     "metadata": {},
     "output_type": "execute_result"
    }
   ],
   "source": [
    "import nltk\n",
    "nltk.download('omw-1.4')"
   ]
  },
  {
   "cell_type": "markdown",
   "id": "22ef1e46",
   "metadata": {},
   "source": [
    "## Remove stopwords"
   ]
  },
  {
   "cell_type": "code",
   "execution_count": 261,
   "id": "18f9682a",
   "metadata": {
    "colab": {
     "base_uri": "https://localhost:8080/"
    },
    "id": "18f9682a",
    "outputId": "aa775c26-3015-4fbf-b267-aacf3f4d14af"
   },
   "outputs": [
    {
     "name": "stdout",
     "output_type": "stream",
     "text": [
      "True\n",
      "False\n"
     ]
    },
    {
     "name": "stderr",
     "output_type": "stream",
     "text": [
      "[nltk_data] Downloading package stopwords to\n",
      "[nltk_data]     /Users/haphuongthao/nltk_data...\n",
      "[nltk_data]   Package stopwords is already up-to-date!\n"
     ]
    }
   ],
   "source": [
    "nltk.download('stopwords')\n",
    "from nltk.corpus import stopwords\n",
    "#donwloadin the stopwords of english language\n",
    "stopwords=stopwords.words('english')\n",
    "#Removing stopwords 'no','nor' and 'not'\n",
    "print('not' in stopwords)\n",
    "stopwords.remove('no')\n",
    "stopwords.remove('nor')\n",
    "stopwords.remove('not')\n",
    "print('not' in stopwords)"
   ]
  },
  {
   "cell_type": "code",
   "execution_count": 262,
   "id": "40829eb3",
   "metadata": {
    "colab": {
     "base_uri": "https://localhost:8080/"
    },
    "id": "40829eb3",
    "outputId": "b22b7734-3b97-4e4f-a32e-adf00595b6e0"
   },
   "outputs": [
    {
     "name": "stderr",
     "output_type": "stream",
     "text": [
      "[nltk_data] Downloading package wordnet to\n",
      "[nltk_data]     /Users/haphuongthao/nltk_data...\n",
      "[nltk_data]   Package wordnet is already up-to-date!\n",
      "100%|████████████████████████████████████| 10000/10000 [00:26<00:00, 376.28it/s]\n"
     ]
    }
   ],
   "source": [
    "nltk.download('wordnet')\n",
    "from nltk.stem import PorterStemmer\n",
    "from nltk.stem import WordNetLemmatizer\n",
    "\n",
    "stemmer = PorterStemmer()\n",
    "lemmatizer = WordNetLemmatizer()\n",
    "\n",
    "processed_text=[]\n",
    "for i in tqdm(train['text']):\n",
    "    #Regular expression that removes all the html tags pressent in the reviews\n",
    "    i=re.sub('(<[\\w\\s]*/?>)',\"\",i)\n",
    "    #Expanding all the contractions present in the review to is respective actual form\n",
    "    i=contractions.fix(i)\n",
    "    #Removing all the special charactesrs from the review text\n",
    "    i=re.sub('[^a-zA-Z0-9\\s]+',\"\",i)\n",
    "    #Removing all the digits present in the review text\n",
    "    i=re.sub('\\d+',\"\",i)\n",
    "    #Removing number\n",
    "    i=re.sub(r'\\d+', '', i)\n",
    "    # Remove URLs\n",
    "    i = re.sub(r'http\\S+|www\\S+|https\\S+', '', i)\n",
    "    # Remove email addresses\n",
    "    i = re.sub('\\S*@\\S*\\s?', '', i)\n",
    "    #Making all the review text to be of lower case as well as remvoing the stopwords and words of length less than 3\n",
    "    processed_text.append(\" \".join([lemmatizer.lemmatize(stemmer.stem(j.lower())) for j in i.split() if j not in stopwords and len(j) >= 3]))"
   ]
  },
  {
   "cell_type": "markdown",
   "id": "7a1b8bd6",
   "metadata": {},
   "source": [
    "## Lemmatize words"
   ]
  },
  {
   "cell_type": "code",
   "execution_count": 263,
   "id": "qs0IlHdYRDMs",
   "metadata": {
    "colab": {
     "base_uri": "https://localhost:8080/"
    },
    "id": "qs0IlHdYRDMs",
    "outputId": "0654d8dc-28f0-4b19-c3bb-651e58a2d433"
   },
   "outputs": [
    {
     "name": "stderr",
     "output_type": "stream",
     "text": [
      "100%|██████████████████████████████████████| 2000/2000 [00:04<00:00, 424.51it/s]\n"
     ]
    }
   ],
   "source": [
    "stemmer = PorterStemmer()\n",
    "lemmatizer = WordNetLemmatizer()\n",
    "processed_test=[]\n",
    "for i in tqdm(test['input']):\n",
    "    #Regular expression that removes all the html tags pressent in the reviews\n",
    "    i=re.sub('(<[\\w\\s]*/?>)',\"\",i)\n",
    "    #Expanding all the contractions present in the review to is respective actual form\n",
    "    i=contractions.fix(i)\n",
    "    #Removing all the special charactesrs from the review text\n",
    "    i=re.sub('[^a-zA-Z0-9\\s]+',\"\",i)\n",
    "    #Removing all the digits present in the review text\n",
    "    i=re.sub('\\d+',\"\",i)\n",
    "    #Removing number\n",
    "    i=re.sub(r'\\d+', '', i)\n",
    "    # Remove URLs\n",
    "    i = re.sub(r'http\\S+|www\\S+|https\\S+', '', i)\n",
    "    # Remove email addresses\n",
    "    i = re.sub('\\S*@\\S*\\s?', '', i)\n",
    "    #Making all the review text to be of lower case as well as remvoing the stopwords and words of length less than 3\n",
    "    processed_test.append(\" \".join([lemmatizer.lemmatize(stemmer.stem(j.lower())) for j in i.split() if j not in stopwords and len(j) >= 3]))"
   ]
  },
  {
   "cell_type": "code",
   "execution_count": 264,
   "id": "29bb65db",
   "metadata": {
    "id": "29bb65db"
   },
   "outputs": [],
   "source": [
    "processed_train=pd.DataFrame({'text':processed_text,'labels':list(train['labels'])})\n",
    "processed_test=pd.DataFrame({'id':test['id'],'text':processed_test})"
   ]
  },
  {
   "cell_type": "code",
   "execution_count": 265,
   "id": "d7d4a805",
   "metadata": {},
   "outputs": [
    {
     "data": {
      "text/html": [
       "<div>\n",
       "<style scoped>\n",
       "    .dataframe tbody tr th:only-of-type {\n",
       "        vertical-align: middle;\n",
       "    }\n",
       "\n",
       "    .dataframe tbody tr th {\n",
       "        vertical-align: top;\n",
       "    }\n",
       "\n",
       "    .dataframe thead th {\n",
       "        text-align: right;\n",
       "    }\n",
       "</style>\n",
       "<table border=\"1\" class=\"dataframe\">\n",
       "  <thead>\n",
       "    <tr style=\"text-align: right;\">\n",
       "      <th></th>\n",
       "      <th>id</th>\n",
       "      <th>text</th>\n",
       "    </tr>\n",
       "  </thead>\n",
       "  <tbody>\n",
       "    <tr>\n",
       "      <th>0</th>\n",
       "      <td>0</td>\n",
       "      <td>realli not understand hype place honest person...</td>\n",
       "    </tr>\n",
       "    <tr>\n",
       "      <th>1</th>\n",
       "      <td>1</td>\n",
       "      <td>today economi busi tri provid least charg feel...</td>\n",
       "    </tr>\n",
       "    <tr>\n",
       "      <th>2</th>\n",
       "      <td>2</td>\n",
       "      <td>sucker place not soooo fantast phoenixscottsda...</td>\n",
       "    </tr>\n",
       "    <tr>\n",
       "      <th>3</th>\n",
       "      <td>3</td>\n",
       "      <td>come year the price great owner gem the rest s...</td>\n",
       "    </tr>\n",
       "    <tr>\n",
       "      <th>4</th>\n",
       "      <td>4</td>\n",
       "      <td>thi might good way kill time near airport food...</td>\n",
       "    </tr>\n",
       "  </tbody>\n",
       "</table>\n",
       "</div>"
      ],
      "text/plain": [
       "   id                                               text\n",
       "0   0  realli not understand hype place honest person...\n",
       "1   1  today economi busi tri provid least charg feel...\n",
       "2   2  sucker place not soooo fantast phoenixscottsda...\n",
       "3   3  come year the price great owner gem the rest s...\n",
       "4   4  thi might good way kill time near airport food..."
      ]
     },
     "execution_count": 265,
     "metadata": {},
     "output_type": "execute_result"
    }
   ],
   "source": [
    "processed_test.head()"
   ]
  },
  {
   "cell_type": "code",
   "execution_count": 266,
   "id": "a63f2b15",
   "metadata": {
    "colab": {
     "base_uri": "https://localhost:8080/",
     "height": 487
    },
    "id": "a63f2b15",
    "outputId": "c2df612d-600a-4c0c-d1a4-fde7228ad868"
   },
   "outputs": [
    {
     "data": {
      "image/png": "[encoded data removed]",
      "text/plain": [
       "<Figure size 600x500 with 1 Axes>"
      ]
     },
     "metadata": {},
     "output_type": "display_data"
    }
   ],
   "source": [
    "import matplotlib.pyplot as plt\n",
    "import seaborn as sn\n",
    "%matplotlib inline\n",
    "plt.figure(figsize=(6,5))\n",
    "plt.title(\"Number of records of positive and negative sentiments\")\n",
    "plot = sn.countplot(x = 'labels', data=processed_train)\n",
    "for p in plot.patches:\n",
    "    plot.annotate(p.get_height(),(p.get_x()+0.1 ,p.get_height()+50))"
   ]
  },
  {
   "cell_type": "markdown",
   "id": "8c5e5be2",
   "metadata": {},
   "source": [
    "# Text vectorizer"
   ]
  },
  {
   "cell_type": "markdown",
   "id": "742525a4",
   "metadata": {},
   "source": [
    "This notebook is going to attempt different text vectorizers, such as TF-IDF, n-gram, and hashing and evaluating the model performance by observing the F1 score. I am going to compare the performance of the model while using these text vectorizers on both pre-processed and unprocessed data."
   ]
  },
  {
   "cell_type": "markdown",
   "id": "2c53746b",
   "metadata": {
    "id": "2c53746b"
   },
   "source": [
    "## TF-IDF"
   ]
  },
  {
   "cell_type": "code",
   "execution_count": 377,
   "id": "5a0734f3",
   "metadata": {
    "id": "5a0734f3"
   },
   "outputs": [],
   "source": [
    "from sklearn.feature_extraction.text import TfidfVectorizer\n",
    "tfidf = TfidfVectorizer(min_df=5, max_df=0.9, strip_accents='unicode', use_idf=1,\n",
    "               smooth_idf=1, sublinear_tf=1)\n",
    "tfidf_x_train = tfidf.fit_transform(processed_train['text'])"
   ]
  },
  {
   "cell_type": "code",
   "execution_count": 390,
   "id": "964b84fe",
   "metadata": {
    "id": "964b84fe"
   },
   "outputs": [],
   "source": [
    "from sklearn.model_selection import train_test_split\n",
    "x_train_tf,x_val_tf,y_train_tf,y_val_tf=train_test_split(tfidf_x_train,processed_train['labels'],test_size=0.2, random_state=149)"
   ]
  },
  {
   "cell_type": "code",
   "execution_count": 391,
   "id": "c9c9a410",
   "metadata": {
    "colab": {
     "base_uri": "https://localhost:8080/"
    },
    "id": "c9c9a410",
    "outputId": "7080e809-9818-4d10-8d5b-5170aeb157c1"
   },
   "outputs": [
    {
     "name": "stdout",
     "output_type": "stream",
     "text": [
      "Val f1 without resample: 0.8470149253731343\n"
     ]
    }
   ],
   "source": [
    "from sklearn.linear_model import LogisticRegression\n",
    "from sklearn.metrics import f1_score\n",
    "\n",
    "clf = LogisticRegression(random_state=42, solver='saga')\n",
    "clf.fit(x_train_tf, y_train_tf)\n",
    "predictions = clf.predict(x_val_tf)\n",
    "\n",
    "# Calculate f1\n",
    "accuracy = f1_score(y_val_tf, predictions)\n",
    "print(\"Val f1 without resample:\", accuracy)"
   ]
  },
  {
   "cell_type": "code",
   "execution_count": 392,
   "id": "d48d5f5b",
   "metadata": {
    "colab": {
     "base_uri": "https://localhost:8080/"
    },
    "id": "d48d5f5b",
    "outputId": "f5a96ac2-3062-4911-ace5-20aa1a929af8"
   },
   "outputs": [
    {
     "name": "stdout",
     "output_type": "stream",
     "text": [
      "Val f1 without resample: 0.8618693134822166\n"
     ]
    }
   ],
   "source": [
    "from sklearn.linear_model import LogisticRegression\n",
    "from sklearn.metrics import f1_score\n",
    "\n",
    "clf = LogisticRegression(random_state=42, class_weight='balanced', solver='saga')\n",
    "clf.fit(x_train_tf, y_train_tf)\n",
    "predictions = clf.predict(x_val_tf)\n",
    "\n",
    "# Calculate accuracy\n",
    "accuracy = f1_score(y_val_tf, predictions)\n",
    "print(\"Val f1 without resample:\", accuracy)"
   ]
  },
  {
   "cell_type": "code",
   "execution_count": 246,
   "id": "XKZ8Yc7aLg7c",
   "metadata": {
    "id": "XKZ8Yc7aLg7c"
   },
   "outputs": [],
   "source": [
    "# # Vectorize the test data\n",
    "# test_data_vectorized = tfidf.transform(processed_test['text'])\n",
    "\n",
    "# # Make predictions using the trained model\n",
    "# test_predictions = clf.predict(test_data_vectorized)\n",
    "\n",
    "# # Add predictions to the test_data DataFrame\n",
    "# processed_test['label'] = test_predictions\n",
    "\n",
    "# processed_test.drop(columns=['text'], inplace=True)\n",
    "\n",
    "# processed_test.to_csv('Thao tfidf.csv', index=False)"
   ]
  },
  {
   "cell_type": "code",
   "execution_count": 247,
   "id": "968a7cab",
   "metadata": {},
   "outputs": [
    {
     "data": {
      "text/html": [
       "<div>\n",
       "<style scoped>\n",
       "    .dataframe tbody tr th:only-of-type {\n",
       "        vertical-align: middle;\n",
       "    }\n",
       "\n",
       "    .dataframe tbody tr th {\n",
       "        vertical-align: top;\n",
       "    }\n",
       "\n",
       "    .dataframe thead th {\n",
       "        text-align: right;\n",
       "    }\n",
       "</style>\n",
       "<table border=\"1\" class=\"dataframe\">\n",
       "  <thead>\n",
       "    <tr style=\"text-align: right;\">\n",
       "      <th></th>\n",
       "      <th>id</th>\n",
       "      <th>text</th>\n",
       "    </tr>\n",
       "  </thead>\n",
       "  <tbody>\n",
       "    <tr>\n",
       "      <th>0</th>\n",
       "      <td>0</td>\n",
       "      <td>realli not understand hype place honest person...</td>\n",
       "    </tr>\n",
       "    <tr>\n",
       "      <th>1</th>\n",
       "      <td>1</td>\n",
       "      <td>today economi busi tri provid least charg feel...</td>\n",
       "    </tr>\n",
       "    <tr>\n",
       "      <th>2</th>\n",
       "      <td>2</td>\n",
       "      <td>sucker place not soooo fantast phoenixscottsda...</td>\n",
       "    </tr>\n",
       "    <tr>\n",
       "      <th>3</th>\n",
       "      <td>3</td>\n",
       "      <td>come year the price great owner gem the rest s...</td>\n",
       "    </tr>\n",
       "    <tr>\n",
       "      <th>4</th>\n",
       "      <td>4</td>\n",
       "      <td>thi might good way kill time near airport food...</td>\n",
       "    </tr>\n",
       "  </tbody>\n",
       "</table>\n",
       "</div>"
      ],
      "text/plain": [
       "   id                                               text\n",
       "0   0  realli not understand hype place honest person...\n",
       "1   1  today economi busi tri provid least charg feel...\n",
       "2   2  sucker place not soooo fantast phoenixscottsda...\n",
       "3   3  come year the price great owner gem the rest s...\n",
       "4   4  thi might good way kill time near airport food..."
      ]
     },
     "execution_count": 247,
     "metadata": {},
     "output_type": "execute_result"
    }
   ],
   "source": [
    "processed_test.head()"
   ]
  },
  {
   "cell_type": "code",
   "execution_count": 248,
   "id": "4c6d0c83",
   "metadata": {},
   "outputs": [
    {
     "name": "stdout",
     "output_type": "stream",
     "text": [
      "<class 'pandas.core.frame.DataFrame'>\n",
      "RangeIndex: 2000 entries, 0 to 1999\n",
      "Data columns (total 2 columns):\n",
      " #   Column  Non-Null Count  Dtype \n",
      "---  ------  --------------  ----- \n",
      " 0   id      2000 non-null   int64 \n",
      " 1   text    2000 non-null   object\n",
      "dtypes: int64(1), object(1)\n",
      "memory usage: 31.4+ KB\n"
     ]
    }
   ],
   "source": [
    "processed_test.info()"
   ]
  },
  {
   "cell_type": "code",
   "execution_count": 249,
   "id": "AMotzmMtpsIE",
   "metadata": {
    "colab": {
     "base_uri": "https://localhost:8080/"
    },
    "id": "AMotzmMtpsIE",
    "outputId": "0c7517e2-b802-47aa-d633-ff035db4b71a"
   },
   "outputs": [
    {
     "name": "stdout",
     "output_type": "stream",
     "text": [
      "Val f1 without resample: 0.8463356973995271\n"
     ]
    }
   ],
   "source": [
    "from sklearn.linear_model import LogisticRegression\n",
    "from sklearn.metrics import f1_score\n",
    "\n",
    "clf = LogisticRegression(random_state=42, class_weight='balanced', solver='saga')\n",
    "clf.fit(x_train_tf, y_train_tf)\n",
    "predictions = clf.predict(x_val_tf)\n",
    "\n",
    "# Calculate accuracy\n",
    "accuracy = f1_score(y_val_tf, predictions)\n",
    "print(\"Val f1 without resample:\", accuracy)"
   ]
  },
  {
   "cell_type": "code",
   "execution_count": 250,
   "id": "cc1a36df",
   "metadata": {
    "colab": {
     "base_uri": "https://localhost:8080/"
    },
    "id": "cc1a36df",
    "outputId": "ad6993e7-2963-45e4-b567-016463c7e302"
   },
   "outputs": [
    {
     "name": "stdout",
     "output_type": "stream",
     "text": [
      "Original dataset shape Counter({0: 5608, 1: 2392})\n",
      "Resampled dataset shape Counter({1: 5608, 0: 5608})\n"
     ]
    }
   ],
   "source": [
    "from collections import Counter\n",
    "from sklearn.datasets import make_classification\n",
    "from imblearn.over_sampling import SMOTE\n",
    "print('Original dataset shape %s' % Counter(y_train_tf))\n",
    "sm = SMOTE(random_state=42)\n",
    "x_train_tf_res, y_train_tf_res = sm.fit_resample(x_train_tf, y_train_tf)\n",
    "print('Resampled dataset shape %s' % Counter(y_train_tf_res))"
   ]
  },
  {
   "cell_type": "code",
   "execution_count": 251,
   "id": "2b35695e",
   "metadata": {
    "colab": {
     "base_uri": "https://localhost:8080/"
    },
    "id": "2b35695e",
    "outputId": "89745bac-7a0b-4545-cff7-e79385c0f0e8"
   },
   "outputs": [
    {
     "name": "stdout",
     "output_type": "stream",
     "text": [
      "Val f1 with resample: 0.8435054773082942\n"
     ]
    }
   ],
   "source": [
    "from sklearn.linear_model import LogisticRegression\n",
    "from sklearn.metrics import f1_score\n",
    "\n",
    "clf = LogisticRegression(random_state=42)\n",
    "clf.fit(x_train_tf_res, y_train_tf_res)\n",
    "predictions = clf.predict(x_val_tf)\n",
    "\n",
    "# Calculate f1\n",
    "accuracy = f1_score(y_val_tf, predictions)\n",
    "print(\"Val f1 with resample:\", accuracy)"
   ]
  },
  {
   "cell_type": "code",
   "execution_count": 252,
   "id": "80eaa0d9",
   "metadata": {
    "colab": {
     "base_uri": "https://localhost:8080/"
    },
    "id": "80eaa0d9",
    "outputId": "3b52fa4e-a28a-43a9-e99a-1edfa6fb0ea7"
   },
   "outputs": [
    {
     "name": "stdout",
     "output_type": "stream",
     "text": [
      "Val f1 with resample: 0.8435054773082942\n"
     ]
    }
   ],
   "source": [
    "from sklearn.linear_model import LogisticRegression\n",
    "from sklearn.metrics import f1_score\n",
    "\n",
    "clf = LogisticRegression(random_state=42, solver='liblinear')\n",
    "clf.fit(x_train_tf_res, y_train_tf_res)\n",
    "predictions = clf.predict(x_val_tf)\n",
    "\n",
    "# Calculate f1\n",
    "accuracy = f1_score(y_val_tf, predictions)\n",
    "print(\"Val f1 with resample:\", accuracy)"
   ]
  },
  {
   "cell_type": "markdown",
   "id": "8c317e48",
   "metadata": {
    "id": "8c317e48"
   },
   "source": [
    "### Without preprocessing"
   ]
  },
  {
   "cell_type": "code",
   "execution_count": 126,
   "id": "bfebffc0",
   "metadata": {
    "id": "bfebffc0"
   },
   "outputs": [],
   "source": [
    "from sklearn.feature_extraction.text import TfidfVectorizer\n",
    "from sklearn.linear_model import LogisticRegression\n",
    "from sklearn.metrics import f1_score\n",
    "\n",
    "train = pd.read_csv(\"train.csv\")\n",
    "test = pd.read_csv(\"test.csv\")\n",
    "tf = TfidfVectorizer()\n",
    "tf_x_train = tf.fit_transform(train['text'])"
   ]
  },
  {
   "cell_type": "code",
   "execution_count": 127,
   "id": "8933ee23",
   "metadata": {
    "id": "8933ee23"
   },
   "outputs": [],
   "source": [
    "from sklearn.model_selection import train_test_split\n",
    "x_train_tf,x_val_tf,y_train_tf,y_val_tf=train_test_split(tf_x_train,train['labels'],test_size=0.2, random_state=42)"
   ]
  },
  {
   "cell_type": "code",
   "execution_count": 128,
   "id": "35265251",
   "metadata": {
    "colab": {
     "base_uri": "https://localhost:8080/"
    },
    "id": "35265251",
    "outputId": "f0d5590b-38ed-4e1b-ea5e-c5415d15ea86"
   },
   "outputs": [
    {
     "name": "stdout",
     "output_type": "stream",
     "text": [
      "Val f1: 0.8164435946462715\n"
     ]
    },
    {
     "data": {
      "text/plain": [
       "['tf_perceptron_no_preprocessing.pkl']"
      ]
     },
     "execution_count": 128,
     "metadata": {},
     "output_type": "execute_result"
    }
   ],
   "source": [
    "import joblib\n",
    "from sklearn.linear_model import LogisticRegression\n",
    "from sklearn.metrics import f1_score\n",
    "\n",
    "clf = LogisticRegression(random_state=42)\n",
    "\n",
    "# Train the Perceptron classifier\n",
    "clf.fit(x_train_tf, y_train_tf)\n",
    "\n",
    "# Predict using the trained classifier\n",
    "predictions = clf.predict(x_val_tf)\n",
    "\n",
    "# Calculate f1 on the test data\n",
    "accuracy = f1_score(y_val_tf, predictions)\n",
    "print(\"Val f1:\", accuracy)"
   ]
  },
  {
   "cell_type": "markdown",
   "id": "130259ea",
   "metadata": {
    "id": "130259ea"
   },
   "source": [
    "## n-gram"
   ]
  },
  {
   "cell_type": "code",
   "execution_count": 400,
   "id": "79c4a713",
   "metadata": {
    "id": "79c4a713"
   },
   "outputs": [],
   "source": [
    "from sklearn.feature_extraction.text import CountVectorizer\n",
    "vectorizer=CountVectorizer(ngram_range=(1, 3),min_df=5, max_df=0.9, strip_accents='unicode')\n",
    "vectorized_x_train=vectorizer.fit_transform(processed_train['text'])"
   ]
  },
  {
   "cell_type": "code",
   "execution_count": 401,
   "id": "6be3073d",
   "metadata": {
    "id": "6be3073d"
   },
   "outputs": [],
   "source": [
    "from sklearn.model_selection import train_test_split\n",
    "x_train_cv,x_val_cv,y_train_cv,y_val_cv=train_test_split(vectorized_x_train,processed_train['labels'],test_size=0.2, random_state=149)"
   ]
  },
  {
   "cell_type": "code",
   "execution_count": 402,
   "id": "3041ad58",
   "metadata": {
    "colab": {
     "base_uri": "https://localhost:8080/"
    },
    "id": "3041ad58",
    "outputId": "726524d1-60bf-40c5-fc4f-3123e95f2111"
   },
   "outputs": [
    {
     "name": "stdout",
     "output_type": "stream",
     "text": [
      "Val f1 without resample: 0.8633594429939078\n"
     ]
    },
    {
     "name": "stderr",
     "output_type": "stream",
     "text": [
      "/Users/haphuongthao/opt/anaconda3/lib/python3.9/site-packages/sklearn/linear_model/_sag.py:352: ConvergenceWarning: The max_iter was reached which means the coef_ did not converge\n",
      "  warnings.warn(\n"
     ]
    }
   ],
   "source": [
    "from sklearn.linear_model import LogisticRegression\n",
    "from sklearn.metrics import f1_score\n",
    "\n",
    "clf = LogisticRegression(random_state=42, solver='saga')\n",
    "clf.fit(x_train_cv, y_train_cv)\n",
    "predictions = clf.predict(x_val_cv)\n",
    "\n",
    "# Calculate f1\n",
    "accuracy = f1_score(y_val_cv, predictions)\n",
    "print(\"Val f1 without resample:\", accuracy)"
   ]
  },
  {
   "cell_type": "code",
   "execution_count": 403,
   "id": "cc8f0bf1",
   "metadata": {
    "colab": {
     "base_uri": "https://localhost:8080/"
    },
    "id": "cc8f0bf1",
    "outputId": "783ca64a-1520-48bc-fc70-95210d4604b1"
   },
   "outputs": [
    {
     "name": "stdout",
     "output_type": "stream",
     "text": [
      "Val f1 without resample: 0.867109634551495\n"
     ]
    },
    {
     "name": "stderr",
     "output_type": "stream",
     "text": [
      "/Users/haphuongthao/opt/anaconda3/lib/python3.9/site-packages/sklearn/linear_model/_sag.py:352: ConvergenceWarning: The max_iter was reached which means the coef_ did not converge\n",
      "  warnings.warn(\n"
     ]
    }
   ],
   "source": [
    "# best model\n",
    "from sklearn.linear_model import LogisticRegression\n",
    "from sklearn.metrics import f1_score\n",
    "\n",
    "clf = LogisticRegression(random_state=42, class_weight=\"balanced\", solver='saga')\n",
    "clf.fit(x_train_cv, y_train_cv)\n",
    "predictions = clf.predict(x_val_cv)\n",
    "\n",
    "# Calculate accuracy\n",
    "accuracy = f1_score(y_val_cv, predictions)\n",
    "print(\"Val f1 without resample:\", accuracy)"
   ]
  },
  {
   "cell_type": "code",
   "execution_count": 404,
   "id": "26c5f20b",
   "metadata": {},
   "outputs": [],
   "source": [
    "# Vectorize the test data\n",
    "test_data_vectorized = vectorizer.transform(processed_test['text'])\n",
    "\n",
    "# Make predictions using the trained model\n",
    "test_predictions = clf.predict(test_data_vectorized)\n",
    "\n",
    "# Add predictions to the test_data DataFrame\n",
    "processed_test['label'] = test_predictions\n",
    "\n",
    "processed_test.drop(columns=['text'], inplace=True)\n",
    "\n",
    "processed_test.to_csv('Thao ngrams.csv', index=False)"
   ]
  },
  {
   "cell_type": "code",
   "execution_count": 396,
   "id": "bd224885",
   "metadata": {
    "colab": {
     "base_uri": "https://localhost:8080/"
    },
    "id": "bd224885",
    "outputId": "24953053-4abc-4b63-95d1-af523855eeaa"
   },
   "outputs": [
    {
     "name": "stdout",
     "output_type": "stream",
     "text": [
      "Original dataset shape Counter({0: 5594, 1: 2406})\n",
      "Resampled dataset shape Counter({1: 5594, 0: 5594})\n"
     ]
    }
   ],
   "source": [
    "from collections import Counter\n",
    "from sklearn.datasets import make_classification\n",
    "from imblearn.over_sampling import SMOTE\n",
    "print('Original dataset shape %s' % Counter(y_train_cv))\n",
    "sm = SMOTE(random_state=42)\n",
    "x_train_cv_res, y_train_cv_res = sm.fit_resample(x_train_cv, y_train_cv)\n",
    "print('Resampled dataset shape %s' % Counter(y_train_cv_res))"
   ]
  },
  {
   "cell_type": "code",
   "execution_count": 397,
   "id": "02415a0a",
   "metadata": {
    "colab": {
     "base_uri": "https://localhost:8080/"
    },
    "id": "02415a0a",
    "outputId": "c61cd16c-0d59-4d4a-8f98-3f44da11c5a3"
   },
   "outputs": [
    {
     "name": "stdout",
     "output_type": "stream",
     "text": [
      "Val f1 with resample: 0.8381742738589212\n"
     ]
    },
    {
     "name": "stderr",
     "output_type": "stream",
     "text": [
      "/Users/haphuongthao/opt/anaconda3/lib/python3.9/site-packages/sklearn/linear_model/_sag.py:352: ConvergenceWarning: The max_iter was reached which means the coef_ did not converge\n",
      "  warnings.warn(\n"
     ]
    }
   ],
   "source": [
    "from sklearn.linear_model import LogisticRegression\n",
    "from sklearn.metrics import f1_score\n",
    "\n",
    "clf = LogisticRegression(random_state=42,solver='saga')\n",
    "clf.fit(x_train_cv_res, y_train_cv_res)\n",
    "predictions = clf.predict(x_val_cv)\n",
    "\n",
    "# Calculate f1\n",
    "accuracy = f1_score(y_val_cv, predictions)\n",
    "print(\"Val f1 with resample:\", accuracy)"
   ]
  },
  {
   "cell_type": "code",
   "execution_count": 398,
   "id": "bcebd5d9",
   "metadata": {
    "colab": {
     "base_uri": "https://localhost:8080/"
    },
    "id": "bcebd5d9",
    "outputId": "93e53d67-2c19-444d-f217-34bb0ea7bdc6"
   },
   "outputs": [
    {
     "name": "stdout",
     "output_type": "stream",
     "text": [
      "Val f1 with resample: 0.8381742738589212\n"
     ]
    },
    {
     "name": "stderr",
     "output_type": "stream",
     "text": [
      "/Users/haphuongthao/opt/anaconda3/lib/python3.9/site-packages/sklearn/linear_model/_sag.py:352: ConvergenceWarning: The max_iter was reached which means the coef_ did not converge\n",
      "  warnings.warn(\n"
     ]
    }
   ],
   "source": [
    "from sklearn.linear_model import LogisticRegression\n",
    "from sklearn.metrics import f1_score\n",
    "\n",
    "clf = LogisticRegression(random_state=42, solver='saga')\n",
    "clf.fit(x_train_cv_res, y_train_cv_res)\n",
    "predictions = clf.predict(x_val_cv)\n",
    "\n",
    "# Calculate accuracy\n",
    "accuracy = f1_score(y_val_cv, predictions)\n",
    "print(\"Val f1 with resample:\", accuracy)"
   ]
  },
  {
   "cell_type": "markdown",
   "id": "d70841d6",
   "metadata": {
    "id": "d70841d6"
   },
   "source": [
    "### Without preprocessing"
   ]
  },
  {
   "cell_type": "code",
   "execution_count": 163,
   "id": "ce0803fc",
   "metadata": {
    "id": "ce0803fc"
   },
   "outputs": [],
   "source": [
    "from sklearn.feature_extraction.text import CountVectorizer\n",
    "from sklearn.metrics import accuracy_score\n",
    "\n",
    "train = pd.read_csv(\"train.csv\")\n",
    "test = pd.read_csv(\"test.csv\")\n",
    "cv = CountVectorizer()\n",
    "cv_x_train = cv.fit_transform(train['text'])"
   ]
  },
  {
   "cell_type": "code",
   "execution_count": 164,
   "id": "2b0b00dc",
   "metadata": {
    "id": "2b0b00dc"
   },
   "outputs": [],
   "source": [
    "from sklearn.model_selection import train_test_split\n",
    "x_train_cv,x_val_cv,y_train_cv,y_val_cv=train_test_split(cv_x_train,train['labels'],test_size=0.2, random_state=42)"
   ]
  },
  {
   "cell_type": "code",
   "execution_count": 165,
   "id": "b7641377",
   "metadata": {
    "colab": {
     "base_uri": "https://localhost:8080/"
    },
    "id": "b7641377",
    "outputId": "e8e0a138-fc0d-45b1-9101-6db152aa99de"
   },
   "outputs": [
    {
     "name": "stdout",
     "output_type": "stream",
     "text": [
      "Test f1: 0.8292682926829269\n"
     ]
    },
    {
     "name": "stderr",
     "output_type": "stream",
     "text": [
      "/Users/haphuongthao/opt/anaconda3/lib/python3.9/site-packages/sklearn/linear_model/_sag.py:352: ConvergenceWarning: The max_iter was reached which means the coef_ did not converge\n",
      "  warnings.warn(\n"
     ]
    },
    {
     "data": {
      "text/plain": [
       "['tfidf_no_preprocessing.pkl']"
      ]
     },
     "execution_count": 165,
     "metadata": {},
     "output_type": "execute_result"
    }
   ],
   "source": [
    "import joblib\n",
    "from sklearn.linear_model import LogisticRegression\n",
    "from sklearn.metrics import accuracy_score\n",
    "\n",
    "clf = LogisticRegression(random_state=42, solver='saga')\n",
    "\n",
    "# Train the classifier\n",
    "clf.fit(x_train_cv, y_train_cv)\n",
    "\n",
    "# Predict using the trained classifier\n",
    "predictions = clf.predict(x_val_cv)\n",
    "\n",
    "# Calculate f1 on the test data\n",
    "accuracy = f1_score(y_val_cv, predictions)\n",
    "print(\"Test f1:\", accuracy)"
   ]
  },
  {
   "cell_type": "markdown",
   "id": "cfc66299",
   "metadata": {
    "id": "cfc66299"
   },
   "source": [
    "## Hashing Vectorizer"
   ]
  },
  {
   "cell_type": "code",
   "execution_count": 405,
   "id": "2a35f4ef",
   "metadata": {
    "id": "2a35f4ef"
   },
   "outputs": [],
   "source": [
    "from sklearn.feature_extraction.text import HashingVectorizer\n",
    "hashing_vectorizer = HashingVectorizer(ngram_range=(1, 3), strip_accents='unicode')\n",
    "hashing_x_train = hashing_vectorizer.fit_transform(processed_train['text'])"
   ]
  },
  {
   "cell_type": "code",
   "execution_count": 406,
   "id": "47cfbafc",
   "metadata": {
    "id": "47cfbafc"
   },
   "outputs": [],
   "source": [
    "from sklearn.model_selection import train_test_split\n",
    "x_train_h,x_val_h,y_train_h,y_val_h=train_test_split(hashing_x_train,processed_train['labels'],test_size=0.2, random_state=149)"
   ]
  },
  {
   "cell_type": "code",
   "execution_count": 407,
   "id": "f019c96b",
   "metadata": {
    "colab": {
     "base_uri": "https://localhost:8080/"
    },
    "id": "f019c96b",
    "outputId": "9b2c3f14-8af3-4196-a002-73e6628dfcf5"
   },
   "outputs": [
    {
     "name": "stdout",
     "output_type": "stream",
     "text": [
      "Val accuracy without resample: 0.7678571428571428\n"
     ]
    }
   ],
   "source": [
    "from sklearn.linear_model import LogisticRegression\n",
    "from sklearn.metrics import f1_score\n",
    "\n",
    "clf = LogisticRegression(random_state=42, solver='saga')\n",
    "clf.fit(x_train_h, y_train_h)\n",
    "predictions = clf.predict(x_val_h)\n",
    "\n",
    "# Calculate f1\n",
    "accuracy = f1_score(y_val_h, predictions)\n",
    "print(\"Val accuracy without resample:\", accuracy)"
   ]
  },
  {
   "cell_type": "code",
   "execution_count": 408,
   "id": "e247e717",
   "metadata": {
    "colab": {
     "base_uri": "https://localhost:8080/"
    },
    "id": "e247e717",
    "outputId": "483fd69f-aa21-40dd-8200-528338a5a0d5"
   },
   "outputs": [
    {
     "name": "stdout",
     "output_type": "stream",
     "text": [
      "Val f1 without resample: 0.8175061932287365\n"
     ]
    }
   ],
   "source": [
    "from sklearn.linear_model import LogisticRegression\n",
    "from sklearn.metrics import f1_score\n",
    "\n",
    "clf = LogisticRegression(random_state=42, class_weight = 'balanced', solver='saga')\n",
    "clf.fit(x_train_h, y_train_h)\n",
    "predictions = clf.predict(x_val_h)\n",
    "\n",
    "# Calculate f1\n",
    "accuracy = f1_score(y_val_h, predictions)\n",
    "print(\"Val f1 without resample:\", accuracy)"
   ]
  },
  {
   "cell_type": "code",
   "execution_count": 409,
   "id": "7512dfd1",
   "metadata": {
    "colab": {
     "base_uri": "https://localhost:8080/"
    },
    "id": "7512dfd1",
    "outputId": "214ddcf6-0647-4d17-d0e7-b3691b6476fe"
   },
   "outputs": [
    {
     "name": "stdout",
     "output_type": "stream",
     "text": [
      "Original dataset shape Counter({0: 5594, 1: 2406})\n",
      "Resampled dataset shape Counter({1: 5594, 0: 5594})\n"
     ]
    }
   ],
   "source": [
    "from collections import Counter\n",
    "from sklearn.datasets import make_classification\n",
    "from imblearn.over_sampling import SMOTE\n",
    "print('Original dataset shape %s' % Counter(y_train_h))\n",
    "sm = SMOTE(random_state=42)\n",
    "x_train_h_res, y_train_h_res = sm.fit_resample(x_train_h, y_train_h)\n",
    "print('Resampled dataset shape %s' % Counter(y_train_h_res))"
   ]
  },
  {
   "cell_type": "code",
   "execution_count": 410,
   "id": "4f0f706c",
   "metadata": {
    "colab": {
     "base_uri": "https://localhost:8080/"
    },
    "id": "4f0f706c",
    "outputId": "2a3bfdd3-438f-47a3-ac02-1d48872a6d60"
   },
   "outputs": [
    {
     "name": "stdout",
     "output_type": "stream",
     "text": [
      "Val f1 with resample and no weight balance: 0.8218954248366014\n"
     ]
    }
   ],
   "source": [
    "from sklearn.linear_model import LogisticRegression\n",
    "from sklearn.metrics import f1_score\n",
    "\n",
    "clf = LogisticRegression(random_state=42, solver='saga')\n",
    "clf.fit(x_train_h_res, y_train_h_res)\n",
    "predictions = clf.predict(x_val_h)\n",
    "\n",
    "# Calculate f1\n",
    "accuracy = f1_score(y_val_h, predictions)\n",
    "print(\"Val f1 with resample and no weight balance:\", accuracy)"
   ]
  }
 ],
 "metadata": {
  "colab": {
   "provenance": [],
   "toc_visible": true
  },
  "kernelspec": {
   "display_name": "Python 3 (ipykernel)",
   "language": "python",
   "name": "python3"
  },
  "language_info": {
   "codemirror_mode": {
    "name": "ipython",
    "version": 3
   },
   "file_extension": ".py",
   "mimetype": "text/x-python",
   "name": "python",
   "nbconvert_exporter": "python",
   "pygments_lexer": "ipython3",
   "version": "3.9.13"
  }
 },
 "nbformat": 4,
 "nbformat_minor": 5
}
